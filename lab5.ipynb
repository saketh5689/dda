{
 "cells": [
  {
   "cell_type": "code",
   "execution_count": 26,
   "id": "8e6b5a5a-cd95-40ed-900f-77d31581f6ec",
   "metadata": {
    "tags": []
   },
   "outputs": [],
   "source": [
    "class Item:\n",
    "    def __init__(self, profit, weight):\n",
    "        self.profit = profit\n",
    "        self.weight = weight\n",
    "\n",
    "def Knapsack(W, arr):\n",
    "    arr.sort(key=lambda x: x.profit / x.weight, reverse=True)\n",
    "    final_value = 0.0\n",
    "    for item in arr:\n",
    "        if item.weight <= W:\n",
    "            W -= item.weight\n",
    "            final_value += item.profit\n",
    "        else:\n",
    "            final_value += item.profit * W / item.weight\n",
    "            break\n",
    "    return final_value\n",
    "\n",
    "    if __name__ == \"__main__\":\n",
    "        W = 50\n",
    "        items = [Item(72, 20), Item(100, 50), Item(60, 30)]\n",
    "        max_value = Knapsack(W, items)\n",
    "        print( f\"max_value={max_value}\")"
   ]
  },
  {
   "cell_type": "code",
   "execution_count": 19,
   "id": "23ecd8b4-54ce-40ca-ac78-480e6dd1d9df",
   "metadata": {
    "tags": []
   },
   "outputs": [
    {
     "name": "stdout",
     "output_type": "stream",
     "text": [
      "132.0\n"
     ]
    }
   ],
   "source": [
    "class Item:\n",
    "    def __init__(self, profit, weight):\n",
    "        self.profit = profit\n",
    "        self.weight = weight\n",
    "\n",
    "def fractionalKnapsackNonIncreasing(W, arr):\n",
    "    # Sorting Item on basis of ratio in non-increasing order\n",
    "    arr.sort(key=lambda x: x.profit / x.weight)\n",
    "    arr.reverse()  # Reversing the list to get non-increasing order\n",
    "\n",
    "    final_value = 0.0\n",
    "\n",
    "    for item in arr:\n",
    "        if item.weight <= W:\n",
    "            W -= item.weight\n",
    "            final_value += item.profit\n",
    "        else:\n",
    "            final_value += item.profit * W / item.weight\n",
    "            break\n",
    "\n",
    "    return final_value\n",
    "\n",
    "if __name__ == \"__main__\":\n",
    "    W = 50\n",
    "    items = [Item(72, 20), Item(100, 50), Item(60, 30)]\n",
    "    max_value = fractionalKnapsackNonIncreasing(W, items)\n",
    "    print(max_value)\n"
   ]
  },
  {
   "cell_type": "code",
   "execution_count": 20,
   "id": "c5ded175-5811-46fc-b862-6c7ada34a5a7",
   "metadata": {
    "tags": []
   },
   "outputs": [
    {
     "name": "stdout",
     "output_type": "stream",
     "text": [
      "100.0\n"
     ]
    }
   ],
   "source": [
    "class Item:\n",
    "    def __init__(self, profit, weight):\n",
    "        self.profit = profit\n",
    "        self.weight = weight\n",
    "\n",
    "def fractionalKnapsackIncreasing(W, arr):\n",
    "    # Sorting Item on basis of ratio in increasing order\n",
    "    arr.sort(key=lambda x: x.profit / x.weight)\n",
    "\n",
    "    final_value = 0.0\n",
    "\n",
    "    for item in arr:\n",
    "        if item.weight <= W:\n",
    "            W -= item.weight\n",
    "            final_value += item.profit\n",
    "        else:\n",
    "            final_value += item.profit * W / item.weight\n",
    "            break\n",
    "\n",
    "    return final_value\n",
    "\n",
    "if __name__ == \"__main__\":\n",
    "    W = 50\n",
    "    items = [Item(72, 20), Item(100, 50), Item(60, 30)]\n",
    "    max_value = fractionalKnapsackIncreasing(W, items)\n",
    "    print(max_value)\n"
   ]
  },
  {
   "cell_type": "code",
   "execution_count": null,
   "id": "422fab27-ec98-4c61-8001-e911b1714b02",
   "metadata": {},
   "outputs": [],
   "source": []
  }
 ],
 "metadata": {
  "kernelspec": {
   "display_name": "Python 3 (ipykernel)",
   "language": "python",
   "name": "python3"
  },
  "language_info": {
   "codemirror_mode": {
    "name": "ipython",
    "version": 3
   },
   "file_extension": ".py",
   "mimetype": "text/x-python",
   "name": "python",
   "nbconvert_exporter": "python",
   "pygments_lexer": "ipython3",
   "version": "3.11.5"
  }
 },
 "nbformat": 4,
 "nbformat_minor": 5
}
